{
 "cells": [
  {
   "cell_type": "code",
   "execution_count": 1,
   "metadata": {},
   "outputs": [],
   "source": [
    "import numpy as np\n",
    "import pandas as pd\n",
    "import seaborn as sns\n",
    "import scipy.stats as stats"
   ]
  },
  {
   "cell_type": "code",
   "execution_count": 2,
   "metadata": {},
   "outputs": [],
   "source": [
    "opp_df = pd.read_parquet('../../data/cleaned/opportunity/opportunity.parquet')"
   ]
  },
  {
   "cell_type": "code",
   "execution_count": 3,
   "metadata": {},
   "outputs": [],
   "source": [
    "alpha = 0.05"
   ]
  },
  {
   "cell_type": "markdown",
   "metadata": {},
   "source": [
    "### Q1. Is time taken between stage transitions significantly different across geographies?\n",
    "\n",
    "- Here, the null hypothesis **h0**, is that 2 geographies have same mean time taken.\n",
    "- **h1** is that they have different mean."
   ]
  },
  {
   "cell_type": "code",
   "execution_count": 4,
   "metadata": {},
   "outputs": [],
   "source": [
    "time_diff_data = opp_df.groupby(['opportunity_id',\n",
    "                                 'transition_to_stage','transition_from_stage_name','geography'],\n",
    "                                as_index=False).agg({'transition_to_timestamp':'max',\n",
    "                                                     'transition_from_timestamp':'min'})"
   ]
  },
  {
   "cell_type": "code",
   "execution_count": 5,
   "metadata": {},
   "outputs": [],
   "source": [
    "time_diff_data['transition_time'] = (time_diff_data['transition_to_timestamp'] - time_diff_data['transition_from_timestamp']).dt.total_seconds()/(3600*24)"
   ]
  },
  {
   "cell_type": "code",
   "execution_count": 6,
   "metadata": {},
   "outputs": [],
   "source": [
    "geo_time_data = time_diff_data.groupby(['geography', 'transition_from_stage_name', 'transition_to_stage'], \n",
    "                                       as_index = False)['transition_time'].mean()"
   ]
  },
  {
   "cell_type": "code",
   "execution_count": 7,
   "metadata": {},
   "outputs": [],
   "source": [
    "geo = dict()\n",
    "for i in geo_time_data['geography'].unique():\n",
    "    key_ = i\n",
    "    geo[i]= geo_time_data[geo_time_data['geography'] == i]"
   ]
  },
  {
   "cell_type": "code",
   "execution_count": 8,
   "metadata": {},
   "outputs": [
    {
     "name": "stdout",
     "output_type": "stream",
     "text": [
      "\n",
      "Case_1\n",
      "h0 for Geo 1 and Geo 2\n",
      "Reject Null Hypothesis? : False\n",
      "\n",
      "Case_2\n",
      "h0 for Geo 1 and Geo 3\n",
      "Reject Null Hypothesis? : True\n",
      "\n",
      "Case_3\n",
      "h0 for Geo 1 and Geo 4\n",
      "Reject Null Hypothesis? : False\n",
      "\n",
      "Case_4\n",
      "h0 for Geo 1 and Geo 5\n",
      "Reject Null Hypothesis? : True\n",
      "\n",
      "Case_5\n",
      "h0 for Geo 2 and Geo 3\n",
      "Reject Null Hypothesis? : True\n",
      "\n",
      "Case_6\n",
      "h0 for Geo 2 and Geo 4\n",
      "Reject Null Hypothesis? : True\n",
      "\n",
      "Case_7\n",
      "h0 for Geo 2 and Geo 5\n",
      "Reject Null Hypothesis? : True\n",
      "\n",
      "Case_8\n",
      "h0 for Geo 3 and Geo 4\n",
      "Reject Null Hypothesis? : True\n",
      "\n",
      "Case_9\n",
      "h0 for Geo 3 and Geo 5\n",
      "Reject Null Hypothesis? : True\n",
      "\n",
      "Case_10\n",
      "h0 for Geo 4 and Geo 5\n",
      "Reject Null Hypothesis? : True\n"
     ]
    }
   ],
   "source": [
    "print(\"\\nCase_1\\nh0 for Geo 1 and Geo 2\\nReject Null Hypothesis? :\",stats.f_oneway(geo['Geo 1']['transition_time'], geo['Geo 2']['transition_time'])[1].round(3)>alpha)\n",
    "print(\"\\nCase_2\\nh0 for Geo 1 and Geo 3\\nReject Null Hypothesis? :\",stats.f_oneway(geo['Geo 1']['transition_time'], geo['Geo 3']['transition_time'])[1].round(3)>alpha)\n",
    "print(\"\\nCase_3\\nh0 for Geo 1 and Geo 4\\nReject Null Hypothesis? :\",stats.f_oneway(geo['Geo 1']['transition_time'], geo['Geo 4']['transition_time'])[1].round(3)>alpha)\n",
    "print(\"\\nCase_4\\nh0 for Geo 1 and Geo 5\\nReject Null Hypothesis? :\",stats.f_oneway(geo['Geo 1']['transition_time'], geo['Geo 5']['transition_time'])[1].round(3)>alpha)\n",
    "print(\"\\nCase_5\\nh0 for Geo 2 and Geo 3\\nReject Null Hypothesis? :\",stats.f_oneway(geo['Geo 2']['transition_time'], geo['Geo 3']['transition_time'])[1].round(3)>alpha)\n",
    "print(\"\\nCase_6\\nh0 for Geo 2 and Geo 4\\nReject Null Hypothesis? :\",stats.f_oneway(geo['Geo 2']['transition_time'], geo['Geo 4']['transition_time'])[1].round(3)>alpha)\n",
    "print(\"\\nCase_7\\nh0 for Geo 2 and Geo 5\\nReject Null Hypothesis? :\",stats.f_oneway(geo['Geo 2']['transition_time'], geo['Geo 5']['transition_time'])[1].round(3)>alpha)\n",
    "print(\"\\nCase_8\\nh0 for Geo 3 and Geo 4\\nReject Null Hypothesis? :\",stats.f_oneway(geo['Geo 3']['transition_time'], geo['Geo 4']['transition_time'])[1].round(3)>alpha)\n",
    "print(\"\\nCase_9\\nh0 for Geo 3 and Geo 5\\nReject Null Hypothesis? :\",stats.f_oneway(geo['Geo 3']['transition_time'], geo['Geo 5']['transition_time'])[1].round(3)>alpha)\n",
    "print(\"\\nCase_10\\nh0 for Geo 4 and Geo 5\\nReject Null Hypothesis? :\",stats.f_oneway(geo['Geo 4']['transition_time'], geo['Geo 5']['transition_time'])[1].round(3)>alpha)"
   ]
  },
  {
   "cell_type": "code",
   "execution_count": 9,
   "metadata": {},
   "outputs": [],
   "source": [
    "mean_geo_time = [geo[i]['transition_time'].mean() for i in geo_time_data['geography'].unique()]"
   ]
  },
  {
   "cell_type": "code",
   "execution_count": 10,
   "metadata": {},
   "outputs": [
    {
     "data": {
      "text/plain": [
       "<AxesSubplot:>"
      ]
     },
     "execution_count": 10,
     "metadata": {},
     "output_type": "execute_result"
    },
    {
     "data": {
      "image/png": "[encoded data removed]",
      "text/plain": [
       "<Figure size 432x288 with 1 Axes>"
      ]
     },
     "metadata": {},
     "output_type": "display_data"
    }
   ],
   "source": [
    "sns.set()\n",
    "sns.barplot(x = ['Geo 1', 'Geo 2', 'Geo 3', 'Geo 4', 'Geo 5'], y = mean_geo_time)"
   ]
  },
  {
   "cell_type": "markdown",
   "metadata": {},
   "source": [
    "### Q2. Are Losses (Opportunity lines in Lost stage) more likely to happen in early stages (Qualify and define)\n",
    "\n",
    "- Here, the null hypothesis **h0**, is that losses happen more in early stages.\n",
    "- **h1** is that losses happen less in early stages."
   ]
  },
  {
   "cell_type": "code",
   "execution_count": 11,
   "metadata": {},
   "outputs": [],
   "source": [
    "stage_df = opp_df[opp_df['transition_to_stage'] != opp_df['transition_from_stage_name']][['opportunity_id',\n",
    "                                                                                         'transition_from_stage_name',\n",
    "                                                                                         'transition_to_stage']]"
   ]
  },
  {
   "cell_type": "code",
   "execution_count": 12,
   "metadata": {},
   "outputs": [],
   "source": [
    "stage_df['early_stages'] = stage_df['transition_from_stage_name'].apply(lambda x: x in ['Stage 0', 'Stage 5', 'Stage 6'])\n",
    "stage_df['lost'] = stage_df['transition_to_stage'].apply(lambda x: x in ['Stage 1', 'Stage 8'])"
   ]
  },
  {
   "cell_type": "code",
   "execution_count": 23,
   "metadata": {},
   "outputs": [],
   "source": [
    "early_df = stage_df[stage_df['early_stages'] == True]\n",
    "non_early_df = stage_df[stage_df['early_stages'] == False]\n",
    "non_early_df = non_early_df[(non_early_df['transition_from_stage_name'] == 'Stage 2') | \n",
    "                            (non_early_df['transition_from_stage_name'] == 'Stage 3') |\n",
    "                            (non_early_df['transition_from_stage_name'] == 'Stage 7')].copy()"
   ]
  },
  {
   "cell_type": "code",
   "execution_count": 51,
   "metadata": {},
   "outputs": [],
   "source": [
    "X1 = early_df['lost'].sum()\n",
    "X2 = non_early_df['lost'].sum()\n",
    "n1 = early_df['lost'].count()\n",
    "n2 = non_early_df['lost'].count()\n",
    "p1 = X1/n1\n",
    "p2 = X2/n2\n",
    "p0 = (X1+X2)/(n1+n2)\n",
    "\n",
    "z_score = p1 - p2 / np.sqrt(p0 * (1 - p0) * (1/n1 + 1/n2))"
   ]
  },
  {
   "cell_type": "code",
   "execution_count": 52,
   "metadata": {},
   "outputs": [],
   "source": [
    "z_crit = stats.norm.ppf(alpha)"
   ]
  },
  {
   "cell_type": "code",
   "execution_count": 53,
   "metadata": {},
   "outputs": [
    {
     "name": "stdout",
     "output_type": "stream",
     "text": [
      "The z-score is :  -17.020246839523903  and the critical z-score for 5% significance is  -1.6448536269514729\n",
      "So null hypothesis is rejected\n"
     ]
    }
   ],
   "source": [
    "print('The z-score is : ', z_score, ' and the critical z-score for 5% significance is ', z_crit)\n",
    "print('So null hypothesis is rejected')"
   ]
  },
  {
   "cell_type": "code",
   "execution_count": 62,
   "metadata": {},
   "outputs": [
    {
     "name": "stdout",
     "output_type": "stream",
     "text": [
      "lost          False  True \n",
      "early_stages              \n",
      "False          3883    276\n",
      "True           8407    283\n"
     ]
    },
    {
     "data": {
      "text/plain": [
       "<AxesSubplot:xlabel='True', ylabel='count'>"
      ]
     },
     "execution_count": 62,
     "metadata": {},
     "output_type": "execute_result"
    },
    {
     "data": {
      "image/png": "[encoded data removed]",
      "text/plain": [
       "<Figure size 432x288 with 1 Axes>"
      ]
     },
     "metadata": {},
     "output_type": "display_data"
    }
   ],
   "source": [
    "cross_tab = pd.crosstab(stage_df['early_stages'], stage_df['lost'])\n",
    "print(cross_tab)\n",
    "sns.countplot(cross_tab[True])"
   ]
  },
  {
   "cell_type": "markdown",
   "metadata": {},
   "source": [
    "### Q3. Does the proportion of Won lines in an Opportunity significantly different across Product Categories?\n",
    "\n",
    "- Here, the null hypothesis **h0**, is that the proportion of Won lines in an Opportunity significantly similar across Product Categories.\n",
    "- **h1** is that the proportion of Won lines in an Opportunity significantly different across Product Categories."
   ]
  },
  {
   "cell_type": "code",
   "execution_count": 19,
   "metadata": {},
   "outputs": [],
   "source": [
    "pro_seg_df = opp_df[['core_product_segment', 'opportunity_status']].copy()"
   ]
  },
  {
   "cell_type": "code",
   "execution_count": 21,
   "metadata": {},
   "outputs": [],
   "source": [
    "pro_seg_df['target'] = np.where(pro_seg_df['opportunity_status'] == 'Closed/Won', True, False)"
   ]
  },
  {
   "cell_type": "code",
   "execution_count": 22,
   "metadata": {},
   "outputs": [
    {
     "name": "stdout",
     "output_type": "stream",
     "text": [
      "Reject Null Hypothesis\n",
      "p-value: 0.0\n"
     ]
    }
   ],
   "source": [
    "ct = pd.crosstab(pro_seg_df['core_product_segment'], pro_seg_df['target'])\n",
    "stat, p, dof, expected = stats.chi2_contingency(ct)\n",
    "\n",
    "if p < alpha:\n",
    "    print('Reject Null Hypothesis')\n",
    "else:\n",
    "    print('Failed to Reject Null Hypothesis')\n",
    "\n",
    "print('p-value:', round(p, 3))\n"
   ]
  },
  {
   "cell_type": "markdown",
   "metadata": {},
   "source": [
    "Null Hypothesis is reject i.e, proportion of won is different for different product categories."
   ]
  }
 ],
 "metadata": {
  "kernelspec": {
   "display_name": "Python 3",
   "language": "python",
   "name": "python3"
  },
  "language_info": {
   "codemirror_mode": {
    "name": "ipython",
    "version": 3
   },
   "file_extension": ".py",
   "mimetype": "text/x-python",
   "name": "python",
   "nbconvert_exporter": "python",
   "pygments_lexer": "ipython3",
   "version": "3.8.11"
  }
 },
 "nbformat": 4,
 "nbformat_minor": 4
}
