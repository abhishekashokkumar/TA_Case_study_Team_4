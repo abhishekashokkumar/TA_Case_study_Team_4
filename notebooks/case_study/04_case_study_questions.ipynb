{
 "cells": [
  {
   "cell_type": "code",
   "execution_count": 51,
   "metadata": {},
   "outputs": [],
   "source": [
    "import numpy as np\n",
    "import pandas as pd\n",
    "import seaborn as sns\n",
    "import scipy.stats as stats"
   ]
  },
  {
   "cell_type": "code",
   "execution_count": 41,
   "metadata": {},
   "outputs": [],
   "source": [
    "opp_df = pd.read_parquet('../../data/cleaned/opportunity/opportunity.parquet')"
   ]
  },
  {
   "cell_type": "code",
   "execution_count": 42,
   "metadata": {},
   "outputs": [],
   "source": [
    "alpha = 0.05"
   ]
  },
  {
   "cell_type": "markdown",
   "metadata": {},
   "source": [
    "### Q1. Is time taken between stage transitions significantly different across geographies?\n",
    "\n",
    "- Here, the null hypothesis **h0**, is that 2 geographies have same mean time taken.\n",
    "- **h1** is that they have different mean."
   ]
  },
  {
   "cell_type": "code",
   "execution_count": 43,
   "metadata": {},
   "outputs": [],
   "source": [
    "time_diff_data = opp_df.groupby(['opportunity_id',\n",
    "                                 'transition_to_stage','transition_from_stage_name','geography'],\n",
    "                                as_index=False).agg({'transition_to_timestamp':'max',\n",
    "                                                     'transition_from_timestamp':'min'})"
   ]
  },
  {
   "cell_type": "code",
   "execution_count": 44,
   "metadata": {},
   "outputs": [],
   "source": [
    "time_diff_data['transition_time'] = (time_diff_data['transition_to_timestamp'] - time_diff_data['transition_from_timestamp']).dt.total_seconds()/(3600*24)"
   ]
  },
  {
   "cell_type": "code",
   "execution_count": 45,
   "metadata": {},
   "outputs": [],
   "source": [
    "geo_time_data = time_diff_data.groupby(['geography', 'transition_from_stage_name', 'transition_to_stage'], \n",
    "                                       as_index = False)['transition_time'].mean()"
   ]
  },
  {
   "cell_type": "code",
   "execution_count": 46,
   "metadata": {},
   "outputs": [],
   "source": [
    "geo = dict()\n",
    "for i in geo_time_data['geography'].unique():\n",
    "    key_ = i\n",
    "    geo[i]= geo_time_data[geo_time_data['geography'] == i]\n",
    "\n"
   ]
  },
  {
   "cell_type": "code",
   "execution_count": 48,
   "metadata": {},
   "outputs": [
    {
     "name": "stdout",
     "output_type": "stream",
     "text": [
      "\n",
      "Case_1\n",
      "h0 for Geo 1 and Geo 2\n",
      "Reject Null Hypothesis? : False\n",
      "\n",
      "Case_2\n",
      "h0 for Geo 1 and Geo 3\n",
      "Reject Null Hypothesis? : True\n",
      "\n",
      "Case_3\n",
      "h0 for Geo 1 and Geo 4\n",
      "Reject Null Hypothesis? : False\n",
      "\n",
      "Case_4\n",
      "h0 for Geo 1 and Geo 5\n",
      "Reject Null Hypothesis? : True\n",
      "\n",
      "Case_5\n",
      "h0 for Geo 2 and Geo 3\n",
      "Reject Null Hypothesis? : True\n",
      "\n",
      "Case_6\n",
      "h0 for Geo 2 and Geo 4\n",
      "Reject Null Hypothesis? : True\n",
      "\n",
      "Case_7\n",
      "h0 for Geo 2 and Geo 5\n",
      "Reject Null Hypothesis? : True\n",
      "\n",
      "Case_8\n",
      "h0 for Geo 3 and Geo 4\n",
      "Reject Null Hypothesis? : True\n",
      "\n",
      "Case_9\n",
      "h0 for Geo 3 and Geo 5\n",
      "Reject Null Hypothesis? : True\n",
      "\n",
      "Case_10\n",
      "h0 for Geo 4 and Geo 5\n",
      "Reject Null Hypothesis? : True\n"
     ]
    }
   ],
   "source": [
    "print(\"\\nCase_1\\nh0 for Geo 1 and Geo 2\\nReject Null Hypothesis? :\",stats.f_oneway(geo['Geo 1']['transition_time'], geo['Geo 2']['transition_time'])[1].round(3)>alpha)\n",
    "print(\"\\nCase_2\\nh0 for Geo 1 and Geo 3\\nReject Null Hypothesis? :\",stats.f_oneway(geo['Geo 1']['transition_time'], geo['Geo 3']['transition_time'])[1].round(3)>alpha)\n",
    "print(\"\\nCase_3\\nh0 for Geo 1 and Geo 4\\nReject Null Hypothesis? :\",stats.f_oneway(geo['Geo 1']['transition_time'], geo['Geo 4']['transition_time'])[1].round(3)>alpha)\n",
    "print(\"\\nCase_4\\nh0 for Geo 1 and Geo 5\\nReject Null Hypothesis? :\",stats.f_oneway(geo['Geo 1']['transition_time'], geo['Geo 5']['transition_time'])[1].round(3)>alpha)\n",
    "print(\"\\nCase_5\\nh0 for Geo 2 and Geo 3\\nReject Null Hypothesis? :\",stats.f_oneway(geo['Geo 2']['transition_time'], geo['Geo 3']['transition_time'])[1].round(3)>alpha)\n",
    "print(\"\\nCase_6\\nh0 for Geo 2 and Geo 4\\nReject Null Hypothesis? :\",stats.f_oneway(geo['Geo 2']['transition_time'], geo['Geo 4']['transition_time'])[1].round(3)>alpha)\n",
    "print(\"\\nCase_7\\nh0 for Geo 2 and Geo 5\\nReject Null Hypothesis? :\",stats.f_oneway(geo['Geo 2']['transition_time'], geo['Geo 5']['transition_time'])[1].round(3)>alpha)\n",
    "print(\"\\nCase_8\\nh0 for Geo 3 and Geo 4\\nReject Null Hypothesis? :\",stats.f_oneway(geo['Geo 3']['transition_time'], geo['Geo 4']['transition_time'])[1].round(3)>alpha)\n",
    "print(\"\\nCase_9\\nh0 for Geo 3 and Geo 5\\nReject Null Hypothesis? :\",stats.f_oneway(geo['Geo 3']['transition_time'], geo['Geo 5']['transition_time'])[1].round(3)>alpha)\n",
    "print(\"\\nCase_10\\nh0 for Geo 4 and Geo 5\\nReject Null Hypothesis? :\",stats.f_oneway(geo['Geo 4']['transition_time'], geo['Geo 5']['transition_time'])[1].round(3)>alpha)"
   ]
  },
  {
   "cell_type": "code",
   "execution_count": 9,
   "metadata": {},
   "outputs": [],
   "source": [
    "mean_geo_time = [geo[i]['transition_time'].mean() for i in geo_time_data['geography'].unique()]"
   ]
  },
  {
   "cell_type": "code",
   "execution_count": 50,
   "metadata": {},
   "outputs": [
    {
     "ename": "TypeError",
     "evalue": "set() got an unexpected keyword argument 'xlabel'",
     "output_type": "error",
     "traceback": [
      "\u001b[1;31m---------------------------------------------------------------------------\u001b[0m",
      "\u001b[1;31mTypeError\u001b[0m                                 Traceback (most recent call last)",
      "\u001b[1;32m<ipython-input-50-4c7458fc1e3c>\u001b[0m in \u001b[0;36m<module>\u001b[1;34m\u001b[0m\n\u001b[0;32m      1\u001b[0m \u001b[0msns\u001b[0m\u001b[1;33m.\u001b[0m\u001b[0mbarplot\u001b[0m\u001b[1;33m(\u001b[0m\u001b[0mx\u001b[0m \u001b[1;33m=\u001b[0m \u001b[1;33m[\u001b[0m\u001b[1;34m'Geo 1'\u001b[0m\u001b[1;33m,\u001b[0m \u001b[1;34m'Geo 2'\u001b[0m\u001b[1;33m,\u001b[0m \u001b[1;34m'Geo 3'\u001b[0m\u001b[1;33m,\u001b[0m \u001b[1;34m'Geo 4'\u001b[0m\u001b[1;33m,\u001b[0m \u001b[1;34m'Geo 5'\u001b[0m\u001b[1;33m]\u001b[0m\u001b[1;33m,\u001b[0m \u001b[0my\u001b[0m \u001b[1;33m=\u001b[0m \u001b[0mmean_geo_time\u001b[0m\u001b[1;33m)\u001b[0m\u001b[1;33m\u001b[0m\u001b[1;33m\u001b[0m\u001b[0m\n\u001b[1;32m----> 2\u001b[1;33m \u001b[0msns\u001b[0m\u001b[1;33m.\u001b[0m\u001b[0mset\u001b[0m\u001b[1;33m(\u001b[0m\u001b[0mxlabel\u001b[0m \u001b[1;33m=\u001b[0m \u001b[1;34m'Geography'\u001b[0m\u001b[1;33m,\u001b[0m \u001b[0mylabel\u001b[0m \u001b[1;33m=\u001b[0m \u001b[1;34m'Average time spent'\u001b[0m\u001b[1;33m)\u001b[0m\u001b[1;33m\u001b[0m\u001b[1;33m\u001b[0m\u001b[0m\n\u001b[0m",
      "\u001b[1;31mTypeError\u001b[0m: set() got an unexpected keyword argument 'xlabel'"
     ]
    },
    {
     "data": {
      "image/png": "[encoded data removed]",
      "text/plain": [
       "<Figure size 432x288 with 1 Axes>"
      ]
     },
     "metadata": {},
     "output_type": "display_data"
    }
   ],
   "source": [
    "sns.barplot(x = ['Geo 1', 'Geo 2', 'Geo 3', 'Geo 4', 'Geo 5'], y = mean_geo_time)\n",
    "sns.set(xlabel = 'Geography', ylabel = 'Average time spent')"
   ]
  },
  {
   "cell_type": "markdown",
   "metadata": {},
   "source": [
    "### Q2. Are Losses (Opportunity lines in Lost stage) more likely to happen in early stages (Qualify and define)\n",
    "\n",
    "- Here, the null hypothesis **h0**, is that losses happen more in early stages.\n",
    "- **h1** is that losses happen less in early stages."
   ]
  },
  {
   "cell_type": "code",
   "execution_count": 11,
   "metadata": {},
   "outputs": [],
   "source": [
    "stage_df = opp_df[opp_df['transition_to_stage'] != opp_df['transition_from_stage_name']][['opportunity_id',\n",
    "                                                                                         'transition_from_stage_name',\n",
    "                                                                                         'transition_to_stage']]"
   ]
  },
  {
   "cell_type": "code",
   "execution_count": 12,
   "metadata": {},
   "outputs": [],
   "source": [
    "stage_df['early_stages'] = stage_df['transition_from_stage_name'].apply(lambda x: x in ['Stage 0', 'Stage 5', 'Stage 6'])\n",
    "stage_df['lost'] = stage_df['transition_to_stage'].apply(lambda x: x in ['Stage 1', 'Stage 8'])"
   ]
  },
  {
   "cell_type": "code",
   "execution_count": 13,
   "metadata": {},
   "outputs": [],
   "source": [
    "early_df = stage_df[stage_df['early_stages'] == True]\n",
    "non_early_df = stage_df[stage_df['early_stages'] == False]\n",
    "non_early_df = non_early_df[(non_early_df['transition_from_stage_name'] == 'Stage 2') | \n",
    "                            (non_early_df['transition_from_stage_name'] == 'Stage 3') |\n",
    "                            (non_early_df['transition_from_stage_name'] == 'Stage 7')].copy()"
   ]
  },
  {
   "cell_type": "code",
   "execution_count": 14,
   "metadata": {},
   "outputs": [],
   "source": [
    "X1 = early_df['lost'].sum()\n",
    "X2 = non_early_df['lost'].sum()\n",
    "n1 = early_df['lost'].count()\n",
    "n2 = non_early_df['lost'].count()\n",
    "p1 = X1/n1\n",
    "p2 = X2/n2\n",
    "p0 = (X1+X2)/(n1+n2)\n",
    "\n",
    "z_score = p1 - p2 / np.sqrt(p0 * (1 - p0) * (1/n1 + 1/n2))"
   ]
  },
  {
   "cell_type": "code",
   "execution_count": 15,
   "metadata": {},
   "outputs": [],
   "source": [
    "z_crit = stats.norm.ppf(alpha)"
   ]
  },
  {
   "cell_type": "code",
   "execution_count": 16,
   "metadata": {},
   "outputs": [
    {
     "name": "stdout",
     "output_type": "stream",
     "text": [
      "The z-score is :  -17.020246839523903  and the critical z-score for 5% significance is  -1.6448536269514729\n",
      "So null hypothesis is rejected\n"
     ]
    }
   ],
   "source": [
    "print('The z-score is : ', z_score, ' and the critical z-score for 5% significance is ', z_crit)\n",
    "print('So null hypothesis is rejected')"
   ]
  },
  {
   "cell_type": "code",
   "execution_count": 36,
   "metadata": {},
   "outputs": [
    {
     "name": "stderr",
     "output_type": "stream",
     "text": [
      "`should_run_async` will not call `transform_cell` automatically in the future. Please pass the result to `transformed_cell` argument and any exception that happen during thetransform in `preprocessing_exc_tuple` in IPython 7.17 and above.\n"
     ]
    },
    {
     "data": {
      "text/html": [
       "<div>\n",
       "<style scoped>\n",
       "    .dataframe tbody tr th:only-of-type {\n",
       "        vertical-align: middle;\n",
       "    }\n",
       "\n",
       "    .dataframe tbody tr th {\n",
       "        vertical-align: top;\n",
       "    }\n",
       "\n",
       "    .dataframe thead th {\n",
       "        text-align: right;\n",
       "    }\n",
       "</style>\n",
       "<table border=\"1\" class=\"dataframe\">\n",
       "  <thead>\n",
       "    <tr style=\"text-align: right;\">\n",
       "      <th>lost</th>\n",
       "      <th>False</th>\n",
       "      <th>True</th>\n",
       "    </tr>\n",
       "    <tr>\n",
       "      <th>early_stages</th>\n",
       "      <th></th>\n",
       "      <th></th>\n",
       "    </tr>\n",
       "  </thead>\n",
       "  <tbody>\n",
       "    <tr>\n",
       "      <th>False</th>\n",
       "      <td>3883</td>\n",
       "      <td>276</td>\n",
       "    </tr>\n",
       "    <tr>\n",
       "      <th>True</th>\n",
       "      <td>8407</td>\n",
       "      <td>283</td>\n",
       "    </tr>\n",
       "  </tbody>\n",
       "</table>\n",
       "</div>"
      ],
      "text/plain": [
       "lost          False  True \n",
       "early_stages              \n",
       "False          3883    276\n",
       "True           8407    283"
      ]
     },
     "execution_count": 36,
     "metadata": {},
     "output_type": "execute_result"
    }
   ],
   "source": [
    "cross_tab = pd.crosstab(stage_df['early_stages'], stage_df['lost'])\n",
    "cross_tab\n",
    "# ta_analysis.get_bivariate_plots(df=stage_df, x_cols='early_stages', y_cols='')"
   ]
  },
  {
   "cell_type": "markdown",
   "metadata": {},
   "source": [
    "### Q3. Does the proportion of Won lines in an Opportunity significantly different across Product Categories?\n",
    "\n",
    "- Here, the null hypothesis **h0**, is that the proportion of Won lines in an Opportunity significantly similar across Product Categories.\n",
    "- **h1** is that the proportion of Won lines in an Opportunity significantly different across Product Categories."
   ]
  },
  {
   "cell_type": "code",
   "execution_count": 18,
   "metadata": {},
   "outputs": [
    {
     "name": "stderr",
     "output_type": "stream",
     "text": [
      "`should_run_async` will not call `transform_cell` automatically in the future. Please pass the result to `transformed_cell` argument and any exception that happen during thetransform in `preprocessing_exc_tuple` in IPython 7.17 and above.\n"
     ]
    }
   ],
   "source": [
    "pro_seg_df = opp_df[['core_product_segment', 'opportunity_status']].copy()"
   ]
  },
  {
   "cell_type": "code",
   "execution_count": 19,
   "metadata": {},
   "outputs": [],
   "source": [
    "pro_seg_df['target'] = np.where(pro_seg_df['opportunity_status'] == 'Closed/Won', True, False)"
   ]
  },
  {
   "cell_type": "code",
   "execution_count": 32,
   "metadata": {},
   "outputs": [
    {
     "name": "stdout",
     "output_type": "stream",
     "text": [
      "Reject Null Hypothesis\n",
      "p-value: 0.0\n"
     ]
    },
    {
     "name": "stderr",
     "output_type": "stream",
     "text": [
      "`should_run_async` will not call `transform_cell` automatically in the future. Please pass the result to `transformed_cell` argument and any exception that happen during thetransform in `preprocessing_exc_tuple` in IPython 7.17 and above.\n"
     ]
    }
   ],
   "source": [
    "ct = pd.crosstab(pro_seg_df['core_product_segment'], pro_seg_df['target'])\n",
    "stat, p, dof, expected = stats.chi2_contingency(ct)\n",
    "\n",
    "if p < alpha:\n",
    "    print('Reject Null Hypothesis')\n",
    "else:\n",
    "    print('Failed to Reject Null Hypothesis')\n",
    "\n",
    "print('p-value:', round(p, 3))\n"
   ]
  },
  {
   "cell_type": "markdown",
   "metadata": {},
   "source": [
    "Null Hypothesis is reject i.e, proportion of won is different for different product categories."
   ]
  },
  {
   "cell_type": "code",
   "execution_count": 33,
   "metadata": {},
   "outputs": [],
   "source": [
    "ct['win_percentage'] = ct[True]/(ct[False] + ct[True])*100"
   ]
  },
  {
   "cell_type": "code",
   "execution_count": 34,
   "metadata": {},
   "outputs": [
    {
     "data": {
      "text/html": [
       "<div>\n",
       "<style scoped>\n",
       "    .dataframe tbody tr th:only-of-type {\n",
       "        vertical-align: middle;\n",
       "    }\n",
       "\n",
       "    .dataframe tbody tr th {\n",
       "        vertical-align: top;\n",
       "    }\n",
       "\n",
       "    .dataframe thead th {\n",
       "        text-align: right;\n",
       "    }\n",
       "</style>\n",
       "<table border=\"1\" class=\"dataframe\">\n",
       "  <thead>\n",
       "    <tr style=\"text-align: right;\">\n",
       "      <th>target</th>\n",
       "      <th>False</th>\n",
       "      <th>True</th>\n",
       "      <th>win_percentage</th>\n",
       "    </tr>\n",
       "    <tr>\n",
       "      <th>core_product_segment</th>\n",
       "      <th></th>\n",
       "      <th></th>\n",
       "      <th></th>\n",
       "    </tr>\n",
       "  </thead>\n",
       "  <tbody>\n",
       "    <tr>\n",
       "      <th>Core Prd Seg 1</th>\n",
       "      <td>20</td>\n",
       "      <td>0</td>\n",
       "      <td>0.000000</td>\n",
       "    </tr>\n",
       "    <tr>\n",
       "      <th>Core Prd Seg 10</th>\n",
       "      <td>5</td>\n",
       "      <td>0</td>\n",
       "      <td>0.000000</td>\n",
       "    </tr>\n",
       "    <tr>\n",
       "      <th>Core Prd Seg 11</th>\n",
       "      <td>43</td>\n",
       "      <td>18</td>\n",
       "      <td>29.508197</td>\n",
       "    </tr>\n",
       "    <tr>\n",
       "      <th>Core Prd Seg 2</th>\n",
       "      <td>456</td>\n",
       "      <td>86</td>\n",
       "      <td>15.867159</td>\n",
       "    </tr>\n",
       "    <tr>\n",
       "      <th>Core Prd Seg 3</th>\n",
       "      <td>118184</td>\n",
       "      <td>174125</td>\n",
       "      <td>59.568812</td>\n",
       "    </tr>\n",
       "    <tr>\n",
       "      <th>Core Prd Seg 4</th>\n",
       "      <td>6149</td>\n",
       "      <td>3677</td>\n",
       "      <td>37.421128</td>\n",
       "    </tr>\n",
       "    <tr>\n",
       "      <th>Core Prd Seg 5</th>\n",
       "      <td>4015</td>\n",
       "      <td>1305</td>\n",
       "      <td>24.530075</td>\n",
       "    </tr>\n",
       "    <tr>\n",
       "      <th>Core Prd Seg 6</th>\n",
       "      <td>430</td>\n",
       "      <td>195</td>\n",
       "      <td>31.200000</td>\n",
       "    </tr>\n",
       "    <tr>\n",
       "      <th>Core Prd Seg 7</th>\n",
       "      <td>171</td>\n",
       "      <td>65</td>\n",
       "      <td>27.542373</td>\n",
       "    </tr>\n",
       "    <tr>\n",
       "      <th>Core Prd Seg 8</th>\n",
       "      <td>2272</td>\n",
       "      <td>927</td>\n",
       "      <td>28.977806</td>\n",
       "    </tr>\n",
       "    <tr>\n",
       "      <th>Core Prd Seg 9</th>\n",
       "      <td>139</td>\n",
       "      <td>25</td>\n",
       "      <td>15.243902</td>\n",
       "    </tr>\n",
       "  </tbody>\n",
       "</table>\n",
       "</div>"
      ],
      "text/plain": [
       "target                 False    True  win_percentage\n",
       "core_product_segment                                \n",
       "Core Prd Seg 1            20       0        0.000000\n",
       "Core Prd Seg 10            5       0        0.000000\n",
       "Core Prd Seg 11           43      18       29.508197\n",
       "Core Prd Seg 2           456      86       15.867159\n",
       "Core Prd Seg 3        118184  174125       59.568812\n",
       "Core Prd Seg 4          6149    3677       37.421128\n",
       "Core Prd Seg 5          4015    1305       24.530075\n",
       "Core Prd Seg 6           430     195       31.200000\n",
       "Core Prd Seg 7           171      65       27.542373\n",
       "Core Prd Seg 8          2272     927       28.977806\n",
       "Core Prd Seg 9           139      25       15.243902"
      ]
     },
     "execution_count": 34,
     "metadata": {},
     "output_type": "execute_result"
    }
   ],
   "source": [
    "ct"
   ]
  },
  {
   "cell_type": "code",
   "execution_count": null,
   "metadata": {},
   "outputs": [],
   "source": []
  }
 ],
 "metadata": {
  "kernelspec": {
   "display_name": "Python 3",
   "language": "python",
   "name": "python3"
  },
  "language_info": {
   "codemirror_mode": {
    "name": "ipython",
    "version": 3
   },
   "file_extension": ".py",
   "mimetype": "text/x-python",
   "name": "python",
   "nbconvert_exporter": "python",
   "pygments_lexer": "ipython3",
   "version": "3.8.11"
  }
 },
 "nbformat": 4,
 "nbformat_minor": 4
}
